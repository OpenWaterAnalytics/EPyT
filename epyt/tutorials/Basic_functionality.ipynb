{
 "cells": [
  {
   "cell_type": "markdown",
   "id": "872ace80c656365c",
   "metadata": {
    "collapsed": false,
    "jupyter": {
     "outputs_hidden": false
    }
   },
   "source": [
    "# Basic Usage of EPyT\n",
    "\n",
    "[EPyT](https://github.com/OpenWaterAnalytics/EPyT) is an open-source Python package for providing a Python-based programming interface with the open-source hydraulic and quality modeling [software EPANET](https://github.com/USEPA/EPANET2.2), created by the US Environmental Protection Agency. EPyT extends the standard capabilities of the [EPANET](https://github.com/OpenWaterAnalytics/EPANET) and [EPANET-MSX](https://github.com/USEPA/EPANETMSX/) libraries, through the addition of new methods for research purposes.\n",
    "\n",
    "Specifically, this software aims to solve the following problems:\n",
    "\n",
    "1. Provide a standardized framework for researchers working in the area of SWN to\n",
    "implement their scientific findings.\n",
    "2. Reduce the time and effort needed to establish a connection with the EPANET libraries.\n",
    "3. Provide code templates for expanding the capabilities of EPANET and facilitating smart\n",
    "water systems research, while supporting the adoption of open-science and reproducible\n",
    "research best practices.\n",
    "4. Provide a similar data structure in Python and MATLAB, to facilitate translation between\n",
    "the two environments.\n",
    "\n",
    "\n",
    "### Outline\n",
    "This notebook demonstrates the basic usage of EPyT:\n",
    "\n",
    "* Initialize EPANET Python Toolkit (EPyT)\n",
    "* Data and Methods in Toolkit\n",
    "* Need help?\n",
    "* Plot network topology\n",
    "* Getting information from links (pipes, pumps, valves)\n",
    "* Getting information from nodes (junctions, tanks, reservoirs)\n",
    "* Demands\n",
    "* Change parameters in network\n",
    "* Patterns\n",
    "* Simulation options\n",
    "\n"
   ]
  },
  {
   "cell_type": "markdown",
   "id": "a889614c7f397e9a",
   "metadata": {
    "collapsed": false,
    "jupyter": {
     "outputs_hidden": false
    }
   },
   "source": [
    "### Initialize EPANET Python Toolkit (EPyT)\n",
    "\n",
    "You should always begin with this command to import the toolkit.\n",
    "\n",
    "[EPyT](https://github.com/OpenWaterAnalytics/EPyT) is available on [PyPI](https://pypi.org/project/epyt/) and can be installed via `pip install epyt`:"
   ]
  },
  {
   "cell_type": "code",
   "execution_count": null,
   "id": "464f61f7-7ae5-41d5-a5b8-9c467b890c93",
   "metadata": {},
   "outputs": [],
   "source": [
    "%pip install epyt==1.1.8"
   ]
  },
  {
   "cell_type": "code",
   "execution_count": null,
   "id": "3f4098ac-54fa-4493-9dae-cabb0799644f",
   "metadata": {
    "ExecuteTime": {
     "end_time": "2024-06-20T09:02:19.219738400Z",
     "start_time": "2024-06-20T09:02:18.838840Z"
    },
    "collapsed": false,
    "jupyter": {
     "outputs_hidden": false
    }
   },
   "outputs": [],
   "source": [
    "from epyt import epanet"
   ]
  },
  {
   "cell_type": "markdown",
   "id": "f5c713d7f6d28934",
   "metadata": {
    "collapsed": false,
    "jupyter": {
     "outputs_hidden": false
    }
   },
   "source": [
    "### Load a benchmark network\n",
    "Decide which benchmark network to use and load the network."
   ]
  },
  {
   "cell_type": "code",
   "execution_count": null,
   "id": "98dd9e49b16f4a65",
   "metadata": {
    "ExecuteTime": {
     "end_time": "2024-06-20T09:02:19.646810200Z",
     "start_time": "2024-06-20T09:02:19.227892300Z"
    },
    "collapsed": false,
    "jupyter": {
     "outputs_hidden": false
    }
   },
   "outputs": [],
   "source": [
    "# decide which network to load from the \"/networks/\" folder  \n",
    "filename = 'L-TOWN.inp' #you can also try 'net2-cl2.inp', 'Net3.inp', etc.\n",
    "\n",
    "#call epanet class and load all data and functions in G structure\n",
    "G = epanet(filename)"
   ]
  },
  {
   "cell_type": "markdown",
   "id": "8a6e70e4b7f2e63a",
   "metadata": {
    "collapsed": false,
    "jupyter": {
     "outputs_hidden": false
    }
   },
   "source": [
    "### Data and Methods in Toolkit\n",
    "\n",
    "Description and code for data and methods in the toolkit."
   ]
  },
  {
   "cell_type": "code",
   "execution_count": null,
   "id": "4300d063c72c2f81",
   "metadata": {
    "ExecuteTime": {
     "end_time": "2024-06-20T09:02:19.701811600Z",
     "start_time": "2024-06-20T09:02:19.507135Z"
    },
    "collapsed": false,
    "jupyter": {
     "outputs_hidden": false
    }
   },
   "outputs": [],
   "source": [
    "dir(G)"
   ]
  },
  {
   "cell_type": "markdown",
   "id": "895f3066b0eddc77",
   "metadata": {
    "collapsed": false,
    "jupyter": {
     "outputs_hidden": false
    }
   },
   "source": [
    "### What methods/functions are in the toolkit? "
   ]
  },
  {
   "cell_type": "code",
   "execution_count": null,
   "id": "8bb76989d61f9355",
   "metadata": {
    "ExecuteTime": {
     "end_time": "2024-06-20T09:02:19.721323800Z",
     "start_time": "2024-06-20T09:02:19.545767900Z"
    },
    "collapsed": false,
    "jupyter": {
     "outputs_hidden": false
    }
   },
   "outputs": [],
   "source": [
    "methods = G.getMethods()\n",
    "print(methods)"
   ]
  },
  {
   "cell_type": "markdown",
   "id": "df668ed75a501392",
   "metadata": {
    "collapsed": false,
    "jupyter": {
     "outputs_hidden": false
    }
   },
   "source": [
    "![Alt text](images/epyt_tree.png)"
   ]
  },
  {
   "cell_type": "markdown",
   "id": "98a568d36bf13855",
   "metadata": {
    "collapsed": false,
    "jupyter": {
     "outputs_hidden": false
    }
   },
   "source": [
    "\n",
    "### Need help?\n",
    "Just type \"help\" followed by the command\n"
   ]
  },
  {
   "cell_type": "code",
   "execution_count": null,
   "id": "33b3a878-9bc6-4808-8ce8-fcd097ff561a",
   "metadata": {},
   "outputs": [],
   "source": [
    "help(G.getLinkDiameter)"
   ]
  },
  {
   "cell_type": "code",
   "execution_count": null,
   "id": "d6c63df767f2d092",
   "metadata": {
    "ExecuteTime": {
     "end_time": "2024-06-20T09:02:19.830058500Z",
     "start_time": "2024-06-20T09:02:19.555015500Z"
    },
    "collapsed": false,
    "jupyter": {
     "outputs_hidden": false
    }
   },
   "outputs": [],
   "source": [
    "help(G.setNodeBaseDemands)"
   ]
  },
  {
   "cell_type": "markdown",
   "id": "42fa4cdfa02a4396",
   "metadata": {
    "collapsed": false,
    "jupyter": {
     "outputs_hidden": false
    }
   },
   "source": [
    "### Exercise: Ask help for any EMT method"
   ]
  },
  {
   "cell_type": "code",
   "execution_count": null,
   "id": "19e5acd9c04e5f1d",
   "metadata": {
    "ExecuteTime": {
     "end_time": "2024-06-20T09:02:19.832355100Z",
     "start_time": "2024-06-20T09:02:19.581219900Z"
    },
    "collapsed": false,
    "jupyter": {
     "outputs_hidden": false
    }
   },
   "outputs": [],
   "source": [
    "# Write \"G.\" and press \"Tab\" key to find a command"
   ]
  },
  {
   "cell_type": "markdown",
   "id": "d415f0c0acab549b",
   "metadata": {
    "collapsed": false,
    "jupyter": {
     "outputs_hidden": false
    }
   },
   "source": [
    "### Plot network topology\n",
    "![Alt text](images/topology.jpeg)\n",
    "\n"
   ]
  },
  {
   "cell_type": "code",
   "execution_count": null,
   "id": "fc28cc7ce0d2602f",
   "metadata": {
    "ExecuteTime": {
     "end_time": "2024-06-20T09:06:51.137525900Z",
     "start_time": "2024-06-20T09:06:44.782193800Z"
    },
    "collapsed": false,
    "jupyter": {
     "outputs_hidden": false
    }
   },
   "outputs": [],
   "source": [
    "# Assuming G has a plot method\n",
    "# Simple plot\n",
    "G.plot()"
   ]
  },
  {
   "cell_type": "code",
   "execution_count": null,
   "id": "2506fe6a-d43f-4dfd-986c-a6d839d9e601",
   "metadata": {},
   "outputs": [],
   "source": [
    "# Highlight specific nodes\n",
    "G.plot(highlightnode=['n616', 'n281', 'n31'])"
   ]
  },
  {
   "cell_type": "markdown",
   "id": "e1b24ccf0b3a44cf",
   "metadata": {
    "collapsed": false,
    "jupyter": {
     "outputs_hidden": false
    }
   },
   "source": [
    "### Getting information from links (pipes, pumps, valves)\n",
    "\n",
    "\n",
    "![Alt text](images/statistics.jpeg)\n"
   ]
  },
  {
   "cell_type": "code",
   "execution_count": null,
   "id": "1a8c35296286a735",
   "metadata": {
    "ExecuteTime": {
     "end_time": "2024-06-20T09:02:27.293778500Z",
     "start_time": "2024-06-20T09:02:27.080295200Z"
    },
    "collapsed": false,
    "jupyter": {
     "outputs_hidden": false
    }
   },
   "outputs": [],
   "source": [
    "linkCount = G.getLinkCount()\n",
    "print(\"linkCount = \", linkCount)\n",
    "\n",
    "pipeCount = G.getLinkPipeCount()\n",
    "print(\"pipeCount = \", pipeCount)\n",
    "\n",
    "pumpCount = G.getLinkPumpCount()\n",
    "print(\"pumpCount = \", pumpCount)\n",
    "\n",
    "valveCount = G.getLinkValveCount()\n",
    "print(\"valveCount = \", valveCount)"
   ]
  },
  {
   "cell_type": "markdown",
   "id": "886b3dd5f72ab192",
   "metadata": {
    "collapsed": false,
    "jupyter": {
     "outputs_hidden": false
    }
   },
   "source": [
    "![Alt text](images/third.jpeg)"
   ]
  },
  {
   "cell_type": "code",
   "execution_count": null,
   "id": "ca57fb9d53555bb5",
   "metadata": {
    "ExecuteTime": {
     "end_time": "2024-06-20T09:02:27.381454700Z",
     "start_time": "2024-06-20T09:02:27.115057300Z"
    },
    "collapsed": false,
    "jupyter": {
     "outputs_hidden": false
    }
   },
   "outputs": [],
   "source": [
    "diameters = G.getLinkDiameter()\n",
    "print(\"diameters = \", diameters)\n",
    "\n",
    "pipelength = G.getLinkLength([1,2,3])\n",
    "print(\"pipelength = \", pipelength)"
   ]
  },
  {
   "cell_type": "code",
   "execution_count": null,
   "id": "aa5fabe0-9bfc-4a1c-8c5d-b70a4039a5e0",
   "metadata": {},
   "outputs": [],
   "source": [
    "LinkNameID = G.getLinkNameID()\n",
    "print(\"LinkNameID = \", LinkNameID)\n",
    "\n",
    "PipeNameID = G.getLinkPipeNameID()\n",
    "print(\"PipeNameID = \", PipeNameID)\n",
    "\n",
    "PumpNameID = G.getLinkPumpNameID()\n",
    "print(\"PumpNameID = \", PumpNameID)\n",
    "\n",
    "ValveNameID = G.getLinkValveNameID()\n",
    "print(\"ValveNameID = \", ValveNameID)"
   ]
  },
  {
   "cell_type": "markdown",
   "id": "fc1107c6e840e792",
   "metadata": {
    "collapsed": false,
    "jupyter": {
     "outputs_hidden": false
    }
   },
   "source": [
    "### Getting information from nodes (junctions, tanks, reservoirs)\n",
    "![Alt text](images/nodeinfo.jpeg)"
   ]
  },
  {
   "cell_type": "code",
   "execution_count": null,
   "id": "f767663ef00aebbb",
   "metadata": {
    "ExecuteTime": {
     "end_time": "2024-06-20T09:02:27.383850900Z",
     "start_time": "2024-06-20T09:02:27.158401Z"
    },
    "collapsed": false,
    "jupyter": {
     "outputs_hidden": false
    }
   },
   "outputs": [],
   "source": [
    "nodeCount = G.getNodeCount()\n",
    "print(\"nodeCount = \", nodeCount)\n",
    "\n",
    "junctionCount = G.getNodeJunctionCount()\n",
    "print(\"junctionCount = \", junctionCount)\n",
    "\n",
    "tankCount = G.getNodeTankCount()\n",
    "print(\"tankCount = \", tankCount)\n",
    "\n",
    "reservoirCount = G.getNodeReservoirCount()\n",
    "print(\"reservoirCount = \", reservoirCount)\n",
    "\n",
    "elevations = G.getNodeElevations([1, 2, 3])\n",
    "print(\"elevations = \", elevations)"
   ]
  },
  {
   "cell_type": "code",
   "execution_count": null,
   "id": "764ef108395f4ddd",
   "metadata": {
    "ExecuteTime": {
     "end_time": "2024-06-20T09:02:27.385052Z",
     "start_time": "2024-06-20T09:02:27.172690600Z"
    },
    "collapsed": false,
    "jupyter": {
     "outputs_hidden": false
    }
   },
   "outputs": [],
   "source": [
    "nodeID = G.getNodeNameID()\n",
    "print(\"nodeID = \", nodeID)\n",
    "\n",
    "junctionID = G.getNodeJunctionNameID()\n",
    "print(\"junctionID = \", junctionID)\n",
    "\n",
    "tankID = G.getNodeTankNameID()\n",
    "print(\"tankID = \", tankID)\n",
    "\n",
    "reservoirID = G.getNodeReservoirNameID()\n",
    "print(\"reservoirID = \", reservoirID)"
   ]
  },
  {
   "cell_type": "code",
   "execution_count": null,
   "id": "d3f99c5d8a7dbd01",
   "metadata": {
    "ExecuteTime": {
     "end_time": "2024-06-20T09:02:27.386901Z",
     "start_time": "2024-06-20T09:02:27.208094500Z"
    },
    "collapsed": false,
    "jupyter": {
     "outputs_hidden": false
    }
   },
   "outputs": [],
   "source": [
    "# Try it yourself below"
   ]
  },
  {
   "cell_type": "markdown",
   "id": "f44ae1aaa8ade80e",
   "metadata": {
    "collapsed": false,
    "jupyter": {
     "outputs_hidden": false
    }
   },
   "source": [
    "### Demands\n",
    "\n",
    "![Alt text](images/demands.jpeg)"
   ]
  },
  {
   "cell_type": "code",
   "execution_count": null,
   "id": "b77ff62a2e08f781",
   "metadata": {
    "ExecuteTime": {
     "end_time": "2024-06-20T09:02:27.405557300Z",
     "start_time": "2024-06-20T09:02:27.225811800Z"
    },
    "collapsed": false,
    "jupyter": {
     "outputs_hidden": false
    }
   },
   "outputs": [],
   "source": [
    "demandcategories = G.getNodeDemandCategoriesNumber()\n",
    "print(\"demandcategories = \", demandcategories)"
   ]
  },
  {
   "cell_type": "code",
   "execution_count": null,
   "id": "929f3b2f-33b7-42ff-ad41-fd51f1979e05",
   "metadata": {},
   "outputs": [],
   "source": [
    "demands = G.getNodeBaseDemands()\n",
    "print(\"demands = \", demands)"
   ]
  },
  {
   "cell_type": "code",
   "execution_count": null,
   "id": "65400228-880d-492e-8925-eb36688ef439",
   "metadata": {},
   "outputs": [],
   "source": [
    "demandscategory1 = G.getNodeBaseDemands(1) # Get categories 1\n",
    "print(\"demandscategory1 = \", demandscategory1)\n",
    "\n",
    "NodeIndex = G.getNodeIndex('n661')   #Retrieves the node index given the ID label of the node\n",
    "print(\"NodeIndex = \",NodeIndex)\n",
    "\n",
    "G.getNodeBaseDemands(NodeIndex)   #Get node base demand with categories for specific node index\n",
    "print(\"G.getNodeBaseDemands(NodeIndex)   = \", G.getNodeBaseDemands(NodeIndex))"
   ]
  },
  {
   "cell_type": "markdown",
   "id": "9f41cf5f5679d43f",
   "metadata": {
    "collapsed": false,
    "jupyter": {
     "outputs_hidden": false
    }
   },
   "source": [
    "### Change parameters in network\n",
    "\n",
    "Change diameter"
   ]
  },
  {
   "cell_type": "code",
   "execution_count": null,
   "id": "290c64bd0ba92df2",
   "metadata": {
    "ExecuteTime": {
     "end_time": "2024-06-20T09:02:27.431729600Z",
     "start_time": "2024-06-20T09:02:27.271737700Z"
    },
    "collapsed": false,
    "jupyter": {
     "outputs_hidden": false
    }
   },
   "outputs": [],
   "source": [
    "# Change pipe diameter\n",
    "link_index = 4\n",
    "link_index_py = link_index - 1\n",
    "d4 = G.getLinkDiameter(link_index)\n",
    "print(\"d4 = \", d4)\n",
    "\n",
    "diameters = G.getLinkDiameter()\n",
    "print(\"diameters = \", diameters)\n",
    "\n",
    "diameters[link_index_py] = 200 # Starts from 0 \n",
    "print(\"diameters[4] = \",diameters[link_index_py])\n",
    "\n",
    "G.setLinkDiameter(diameters)\n",
    "d4new = G.getLinkDiameter(4)\n",
    "print(\"d4new = \",d4new)"
   ]
  },
  {
   "cell_type": "markdown",
   "id": "a483c9e8e1df8531",
   "metadata": {
    "collapsed": false,
    "jupyter": {
     "outputs_hidden": false
    }
   },
   "source": [
    "### Change elevation"
   ]
  },
  {
   "cell_type": "code",
   "execution_count": null,
   "id": "4b63b1c9de8ccf00",
   "metadata": {
    "ExecuteTime": {
     "end_time": "2024-06-20T09:02:27.575699800Z",
     "start_time": "2024-06-20T09:02:27.319352600Z"
    },
    "collapsed": false,
    "jupyter": {
     "outputs_hidden": false
    }
   },
   "outputs": [],
   "source": [
    "# Change node elevation\n",
    "node_index = 4\n",
    "node_index_py = node_index - 1\n",
    "e4 = G.getNodeElevations(node_index)\n",
    "print(\"e4 = \",e4)\n",
    "\n",
    "elevations = G.getNodeElevations()\n",
    "print(\"elevations = \", elevations)\n",
    "\n",
    "elevations[node_index_py] = 70\n",
    "print(\"elevations[4]  = \", elevations[node_index_py])\n",
    "G.setNodeElevations(elevations)\n",
    "\n",
    "e4new = G.getNodeElevations(node_index)\n",
    "print(\"e4new = \", e4new)"
   ]
  },
  {
   "cell_type": "markdown",
   "id": "4709f7210c871f1b",
   "metadata": {
    "collapsed": false,
    "jupyter": {
     "outputs_hidden": false
    }
   },
   "source": [
    "\n",
    "### Patterns\n",
    "\n",
    "Description and code for working with patterns."
   ]
  },
  {
   "cell_type": "code",
   "execution_count": null,
   "id": "505e0c8999652247",
   "metadata": {
    "ExecuteTime": {
     "end_time": "2024-06-20T09:02:27.620958Z",
     "start_time": "2024-06-20T09:02:27.365708700Z"
    },
    "collapsed": false,
    "jupyter": {
     "outputs_hidden": false
    }
   },
   "outputs": [],
   "source": [
    "G.getPatternCount()\n",
    "print(\"G.getPatternCount() ->\", G.getPatternCount())\n",
    "\n",
    "PatternsNames = G.getPatternNameID()\n",
    "print(\"PatternsNames = \", PatternsNames)\n",
    "\n",
    "Patterns = G.getPattern()\n",
    "print(\"Patterns = \", Patterns)"
   ]
  },
  {
   "cell_type": "markdown",
   "id": "b2c8571e240c46dd",
   "metadata": {
    "collapsed": false,
    "jupyter": {
     "outputs_hidden": false
    }
   },
   "source": [
    "### Plot residential pattern"
   ]
  },
  {
   "cell_type": "code",
   "execution_count": null,
   "id": "51d608e87966d161",
   "metadata": {
    "ExecuteTime": {
     "end_time": "2024-06-20T09:18:36.473636100Z",
     "start_time": "2024-06-20T09:18:35.937143700Z"
    },
    "collapsed": false,
    "jupyter": {
     "outputs_hidden": false
    }
   },
   "outputs": [],
   "source": [
    "import matplotlib.pyplot as plt\n",
    "# Create a new figure\n",
    "fig, ax = plt.subplots()\n",
    "fig.set_figwidth(7)\n",
    "# Plot the first row of Patterns\n",
    "plt.plot(Patterns[0, :])\n",
    "ax.set_title('Residential pattern', fontsize=8)\n",
    "ax.set_xlabel('Time', fontsize=8)\n",
    "ax.set_ylabel(f'Pattern', fontsize=8)\n",
    "# Turn on the grid\n",
    "plt.grid(True)\n",
    "# Show the plot\n",
    "plt.show()"
   ]
  },
  {
   "cell_type": "markdown",
   "id": "d431ae0713a09053",
   "metadata": {
    "collapsed": false,
    "jupyter": {
     "outputs_hidden": false
    }
   },
   "source": [
    "\n",
    "![Alt text](images/patterns.jpeg)\n"
   ]
  },
  {
   "cell_type": "code",
   "execution_count": null,
   "id": "c318e91ac237a066",
   "metadata": {
    "ExecuteTime": {
     "end_time": "2024-06-20T09:19:51.665116900Z",
     "start_time": "2024-06-20T09:19:51.346359900Z"
    },
    "collapsed": false,
    "jupyter": {
     "outputs_hidden": false
    }
   },
   "outputs": [],
   "source": [
    "import random\n",
    "import string\n",
    "# Generate a random string of 5 lowercase letters\n",
    "patternID = ''.join(random.choices(string.ascii_lowercase, k=5))\n",
    "print(\"patternID = \", patternID)\n",
    "\n",
    "patternMult = Patterns[1, :] * 0.5\n",
    "print(\"patternMult = \", patternMult)\n",
    "\n",
    "patternIndex = G.addPattern(patternID, patternMult)\n",
    "print(\"patternIndex = \", patternIndex)\n",
    "\n",
    "Patterns = G.getPattern()\n",
    "print(\"Patterns = \", Patterns)\n",
    "\n",
    "#plot new pattern\n",
    "fig, ax = plt.subplots()\n",
    "fig.set_figwidth(7)\n",
    "# Plot the first row of Patterns\n",
    "plt.plot(Patterns[patternIndex-1, :])\n",
    "ax.set_title('Residential pattern', fontsize=8)\n",
    "ax.set_xlabel('Time', fontsize=8)\n",
    "ax.set_ylabel(f'Pattern', fontsize=8)\n",
    "plt.show()"
   ]
  },
  {
   "cell_type": "markdown",
   "id": "c12ce3903ba34f57",
   "metadata": {
    "collapsed": false,
    "jupyter": {
     "outputs_hidden": false
    }
   },
   "source": [
    "### Simulation options\n",
    "\n",
    "Description and code for simulation options.\n",
    "\n",
    "![Alt text](images/simulationoption.jpeg)"
   ]
  },
  {
   "cell_type": "code",
   "execution_count": null,
   "id": "2bc27d08e688f3ec",
   "metadata": {
    "ExecuteTime": {
     "end_time": "2024-06-20T09:02:27.995312100Z",
     "start_time": "2024-06-20T09:02:27.799320100Z"
    },
    "collapsed": false,
    "jupyter": {
     "outputs_hidden": false
    }
   },
   "outputs": [],
   "source": [
    "# Times in seconds\n",
    "SimulationDuration = G.getTimeSimulationDuration() \n",
    "print(\"SimulationDuration = \", SimulationDuration)\n",
    "\n",
    "SimulationDurationHours = SimulationDuration/3600\n",
    "print(\"SimulationDurationHours = \", SimulationDurationHours)\n",
    "\n",
    "HydraulicStep = G.getTimeHydraulicStep() \n",
    "print(\"HydraulicStep = \", HydraulicStep)\n",
    "\n",
    "QualityStep = G.getTimeQualityStep()\n",
    "print(\"QualityStep = \", QualityStep)"
   ]
  },
  {
   "cell_type": "code",
   "execution_count": null,
   "id": "73b828d746a2021d",
   "metadata": {
    "ExecuteTime": {
     "end_time": "2024-06-20T09:02:28.285289900Z",
     "start_time": "2024-06-20T09:02:27.816155300Z"
    },
    "collapsed": false,
    "jupyter": {
     "outputs_hidden": false
    }
   },
   "outputs": [],
   "source": [
    "PatternStep = G.getTimePatternStep() \n",
    "print(\"PatternStep = \", PatternStep)\n",
    "\n",
    "ReportingStep = G.getTimeReportingStep()\n",
    "print(\"ReportingStep = \", ReportingStep)\n",
    "\n",
    "ReportingStart = G.getTimeReportingStart()\n",
    "print(\"ReportingStart = \", ReportingStart)\n",
    "\n",
    "PatternStart = G.getTimePatternStart()\n",
    "print(\"PatternStart = \", PatternStart)"
   ]
  },
  {
   "cell_type": "markdown",
   "id": "d6b24cd7ad3628e3",
   "metadata": {
    "collapsed": false,
    "jupyter": {
     "outputs_hidden": false
    }
   },
   "source": [
    "### Hydraulic options\n"
   ]
  },
  {
   "cell_type": "code",
   "execution_count": null,
   "id": "eb959b71-67fe-4341-8d8f-4b8cefbe9e02",
   "metadata": {},
   "outputs": [],
   "source": [
    "Units = G.getUnits()\n",
    "print(\"Units = \", G.getAllAttributes(Units))"
   ]
  },
  {
   "cell_type": "code",
   "execution_count": null,
   "id": "1313536d4bdfee1c",
   "metadata": {
    "ExecuteTime": {
     "end_time": "2024-06-20T09:02:28.287385900Z",
     "start_time": "2024-06-20T09:02:27.830321Z"
    },
    "collapsed": false,
    "jupyter": {
     "outputs_hidden": false
    }
   },
   "outputs": [],
   "source": [
    "FlowUnits = G.getFlowUnits()\n",
    "print(\"FlowUnits = \", FlowUnits)\n",
    "\n",
    "PressureUnits = Units.NodePressureUnits\n",
    "print(\"PressureUnits = \", PressureUnits)\n",
    "\n",
    "HeadLossFormula = G.getOptionsHeadLossFormula()\n",
    "print(\"HeadLossFormula = \", HeadLossFormula)"
   ]
  },
  {
   "cell_type": "markdown",
   "id": "f7400d3e421414f5",
   "metadata": {
    "collapsed": false,
    "jupyter": {
     "outputs_hidden": false
    }
   },
   "source": [
    "### Setup quality options \n"
   ]
  },
  {
   "cell_type": "code",
   "execution_count": null,
   "id": "b24fc230bf461bd8",
   "metadata": {
    "ExecuteTime": {
     "end_time": "2024-06-20T09:02:28.288600100Z",
     "start_time": "2024-06-20T09:02:27.888578800Z"
    },
    "collapsed": false,
    "jupyter": {
     "outputs_hidden": false
    }
   },
   "outputs": [],
   "source": [
    "G.setQualityType('chlorine','mg/L') #set quality type\n",
    "\n",
    "zeroNodes = np.zeros(G.NodeCount)\n",
    "print(\"zeroNodes = \", zeroNodes)\n",
    "\n",
    "# Setting initial chlorine level at 0  mg/L\n",
    "G.setNodeInitialQuality(zeroNodes) "
   ]
  },
  {
   "cell_type": "code",
   "execution_count": null,
   "id": "f8173138-9e9f-4fdc-abbd-a5614ea6f176",
   "metadata": {},
   "outputs": [],
   "source": [
    "brk = -0.3 * np.ones(G.LinkCount)\n",
    "print(\"brk = \", brk)\n",
    "# Setting Bulk Reaction Coefficient\n",
    "G.setLinkBulkReactionCoeff(brk) "
   ]
  },
  {
   "cell_type": "code",
   "execution_count": null,
   "id": "87cd549d2da50951",
   "metadata": {
    "ExecuteTime": {
     "end_time": "2024-06-20T09:02:28.324011700Z",
     "start_time": "2024-06-20T09:02:27.924909400Z"
    },
    "collapsed": false,
    "jupyter": {
     "outputs_hidden": false
    }
   },
   "outputs": [],
   "source": [
    "wrk = -0.1 * np.ones(G.LinkCount)\n",
    "print(\"wrk = \", wrk)\n",
    "# Setting Pipe wall Reaction Coefficient\n",
    "G.setLinkWallReactionCoeff(wrk)\n",
    "\n",
    "BulkReactionOrder = G.getOptionsPipeBulkReactionOrder()\n",
    "print(\"BulkReactionOrder = \", BulkReactionOrder)\n",
    "\n",
    "PipeWallReactionOrder = G.getOptionsPipeWallReactionOrder()\n",
    "print(\"PipeWallReactionOrder = \",PipeWallReactionOrder)"
   ]
  },
  {
   "cell_type": "markdown",
   "id": "b9698042b3ab2238",
   "metadata": {
    "collapsed": false,
    "jupyter": {
     "outputs_hidden": false
    }
   },
   "source": [
    "![Alt text](images/setupqualityoptions2.jpeg)   "
   ]
  },
  {
   "cell_type": "code",
   "execution_count": null,
   "id": "d3cbee7da7f247ab",
   "metadata": {
    "ExecuteTime": {
     "end_time": "2024-06-20T09:02:28.370616100Z",
     "start_time": "2024-06-20T09:02:27.969922800Z"
    },
    "collapsed": false,
    "jupyter": {
     "outputs_hidden": false
    }
   },
   "outputs": [],
   "source": [
    "ReservoirsIndex = G.getNodeReservoirIndex()\n",
    "print(\"ReservoirsIndex = \", ReservoirsIndex)\n",
    "\n",
    "help(G.setNodeSourceType)\n",
    "\n",
    "for i in ReservoirsIndex:\n",
    "    G.setNodeSourceType(i, 'CONCEN')\n",
    "    G.setNodeSourceQuality(i, 0.8)"
   ]
  },
  {
   "cell_type": "code",
   "execution_count": null,
   "id": "42791c53-665a-40e0-ba15-69b47c971e34",
   "metadata": {},
   "outputs": [],
   "source": [
    "NodeSourceQuality = G.getNodeSourceQuality(ReservoirsIndex)\n",
    "print(\"NodeSourceQuality = \", NodeSourceQuality)"
   ]
  }
 ],
 "metadata": {
  "kernelspec": {
   "display_name": "Python 3 (Spyder)",
   "language": "python3",
   "name": "python3"
  },
  "language_info": {
   "codemirror_mode": {
    "name": "ipython",
    "version": 3
   },
   "file_extension": ".py",
   "mimetype": "text/x-python",
   "name": "python",
   "nbconvert_exporter": "python",
   "pygments_lexer": "ipython3",
   "version": "3.10.14"
  }
 },
 "nbformat": 4,
 "nbformat_minor": 5
}
